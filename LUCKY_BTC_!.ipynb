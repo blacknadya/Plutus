{
  "nbformat": 4,
  "nbformat_minor": 0,
  "metadata": {
    "colab": {
      "name": "LUCKY BTC !",
      "provenance": [],
      "collapsed_sections": [],
      "include_colab_link": true
    },
    "kernelspec": {
      "display_name": "Python 3",
      "name": "python3"
    }
  },
  "cells": [
    {
      "cell_type": "markdown",
      "metadata": {
        "id": "view-in-github",
        "colab_type": "text"
      },
      "source": [
        "<a href=\"https://colab.research.google.com/github/blacknadya/Plutus/blob/master/LUCKY_BTC_!.ipynb\" target=\"_parent\"><img src=\"https://colab.research.google.com/assets/colab-badge.svg\" alt=\"Open In Colab\"/></a>"
      ]
    },
    {
      "cell_type": "markdown",
      "metadata": {
        "id": "OJCeJ7lIWYsD"
      },
      "source": [
        "This cell takes 4-5 mins to load all data\n"
      ]
    },
    {
      "cell_type": "code",
      "metadata": {
        "colab": {
          "base_uri": "https://localhost:8080/",
          "height": 0
        },
        "id": "iX2HEpNcVVRx",
        "outputId": "0d48602c-976c-4c03-a84b-d60d2f3c3ff9"
      },
      "source": [
        "!git clone https://github.com/SayWhat69/Plutus.git "
      ],
      "execution_count": 1,
      "outputs": [
        {
          "output_type": "stream",
          "name": "stdout",
          "text": [
            "Cloning into 'Plutus'...\n",
            "remote: Enumerating objects: 430, done.\u001b[K\n",
            "remote: Total 430 (delta 0), reused 0 (delta 0), pack-reused 430\u001b[K\n",
            "Receiving objects: 100% (430/430), 2.41 GiB | 28.68 MiB/s, done.\n",
            "Resolving deltas: 100% (176/176), done.\n",
            "Checking out files: 100% (40/40), done.\n"
          ]
        }
      ]
    },
    {
      "cell_type": "code",
      "metadata": {
        "colab": {
          "base_uri": "https://localhost:8080/",
          "height": 0
        },
        "id": "vUvCSCKnU437",
        "outputId": "2119a204-32bb-4941-cb56-361db6c07928"
      },
      "source": [
        "%cd Plutus\n",
        "!pip3 install -r requirements.txt"
      ],
      "execution_count": 2,
      "outputs": [
        {
          "output_type": "stream",
          "name": "stdout",
          "text": [
            "/content/Plutus\n",
            "Collecting starkbank-ecdsa==0.1.4\n",
            "  Downloading starkbank-ecdsa-0.1.4.tar.gz (9.9 kB)\n",
            "Building wheels for collected packages: starkbank-ecdsa\n",
            "  Building wheel for starkbank-ecdsa (setup.py) ... \u001b[?25l\u001b[?25hdone\n",
            "  Created wheel for starkbank-ecdsa: filename=starkbank_ecdsa-0.1.4-py3-none-any.whl size=11613 sha256=c9a78d1b1138eccfaedbbe8fbb0372bfc0780f0287c6a5bfe796e1ca2fcb65ec\n",
            "  Stored in directory: /root/.cache/pip/wheels/ad/46/ac/7d37752ed88f898b4c4a7c2161336cd697b4766fe993bf010e\n",
            "Successfully built starkbank-ecdsa\n",
            "Installing collected packages: starkbank-ecdsa\n",
            "Successfully installed starkbank-ecdsa-0.1.4\n"
          ]
        }
      ]
    },
    {
      "cell_type": "code",
      "metadata": {
        "id": "nD_fkuHpVDEE"
      },
      "source": [
        "! python3 plutus.py\n",
        "3FpYfDGJSdkMAvZvCrwPHDqdmGqUkTsJys\n",
        "37a8gfyneULdn8ctSigXif87DVk6YCpRt2\n",
        "3LoeuEvZnjvw1MqhbgHNyruFUx61UgFQw4\n",
        "36Geb5HENpAdWrTHrxKuauqAzdSya7PQ1b\n",
        "3NVoWA5emJXePPi6qT2SQVns3rG61SS4ox\n",
        "36DTb5BRUiauWBdiZkKFCWGFZAMb6HhwJC\n",
        "32W1XGMkfEg4uvYhMZ1w9XUVkDUq5YxUWB\n",
        "3PPFTkM3KLvb4D3ft2pBMTdfC2BfdHXXWp\n",
        "38HFUonqLShzzuEE7yR2LFQt3p9WazQLCt\n",
        "3FXoG63QL5XvZFr8f7aEWKvYHpbcAVHANA\n",
        "3PNHBB6QrUa4NJpK7VgxVe56azqBG3bbPH\n",
        "35AT3zTyciLxt8AaQSBRzKEPcnm159krcb"
      ],
      "execution_count": null,
      "outputs": []
    },
    {
      "cell_type": "code",
      "metadata": {
        "id": "FtYquYtvEbAn",
        "colab": {
          "base_uri": "https://localhost:8080/"
        },
        "outputId": "d969875d-b550-40be-b0f6-b21901b7ad9e"
      },
      "source": [
        "!pip install vanity-address"
      ],
      "execution_count": 4,
      "outputs": [
        {
          "output_type": "stream",
          "name": "stdout",
          "text": [
            "Collecting vanity-address\n",
            "  Downloading vanity_address-0.1.4-py3-none-any.whl (6.5 kB)\n",
            "Collecting base58==1.0.2\n",
            "  Downloading base58-1.0.2-py3-none-any.whl (3.3 kB)\n",
            "Collecting ecdsa==0.13\n",
            "  Downloading ecdsa-0.13-py2.py3-none-any.whl (86 kB)\n",
            "\u001b[K     |████████████████████████████████| 86 kB 3.1 MB/s \n",
            "\u001b[?25hInstalling collected packages: ecdsa, base58, vanity-address\n",
            "Successfully installed base58-1.0.2 ecdsa-0.13 vanity-address-0.1.4\n"
          ]
        }
      ]
    },
    {
      "cell_type": "code",
      "metadata": {
        "colab": {
          "base_uri": "https://localhost:8080/",
          "height": 130
        },
        "id": "vSX3QFpxdJZ9",
        "outputId": "503bf010-0c9c-4ca2-dbe1-46c49fc6bc23"
      },
      "source": [
        "from vanity_address.vanity_address import VanityAddressGenerator\n",
        "from pprint import pprint\n",
        "\n",
        "def callback(address):\n",
        "    return address.startswith(b'111')\n",
        "\n",
        "# Generate an address\n",
        "address = VanityAddressGenerator.generate_one(callback=callback)\n",
        "address = 3FpYfDGJSdkMAvZvCrwPHDqdmGqUkTsJys\n",
        "\n",
        "print(\"Address:\\t{address.address}\\nPrivate key:\\t{address.private_key}\".format(address=address))"
      ],
      "execution_count": 5,
      "outputs": [
        {
          "output_type": "error",
          "ename": "SyntaxError",
          "evalue": "ignored",
          "traceback": [
            "\u001b[0;36m  File \u001b[0;32m\"<ipython-input-5-f8955d17b95d>\"\u001b[0;36m, line \u001b[0;32m9\u001b[0m\n\u001b[0;31m    address = 3FpYfDGJSdkMAvZvCrwPHDqdmGqUkTsJys\u001b[0m\n\u001b[0m                                               ^\u001b[0m\n\u001b[0;31mSyntaxError\u001b[0m\u001b[0;31m:\u001b[0m invalid syntax\n"
          ]
        }
      ]
    },
    {
      "cell_type": "code",
      "metadata": {
        "id": "DFgWUqGCd7Ao"
      },
      "source": [
        "!sudo apt install snapd"
      ],
      "execution_count": null,
      "outputs": []
    },
    {
      "cell_type": "code",
      "metadata": {
        "id": "BOVYPwZwfodS"
      },
      "source": [
        "!sudo snap install vanitygen\n",
        "\n"
      ],
      "execution_count": null,
      "outputs": []
    },
    {
      "cell_type": "code",
      "metadata": {
        "id": "z8AUtG-Tfzma"
      },
      "source": [
        "!ls\n",
        "!make\n",
        "!cp vanitygen /\n"
      ],
      "execution_count": null,
      "outputs": []
    },
    {
      "cell_type": "code",
      "metadata": {
        "id": "Rh61VYj5hrqj"
      },
      "source": [
        ""
      ],
      "execution_count": null,
      "outputs": []
    }
  ]
}